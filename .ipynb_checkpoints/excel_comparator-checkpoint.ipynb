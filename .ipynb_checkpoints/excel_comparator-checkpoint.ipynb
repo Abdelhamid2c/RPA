{
 "cells": [
  {
   "cell_type": "code",
   "execution_count": 11,
   "id": "ef23a7ea-a475-449c-ad67-0b3518589b31",
   "metadata": {},
   "outputs": [],
   "source": [
    "from openpyxl import load_workbook\n",
    "from openpyxl.styles import PatternFill, Font\n",
    "from openpyxl.comments import Comment\n",
    "import pandas as pd\n",
    "from utilities import *"
   ]
  },
  {
   "cell_type": "code",
   "execution_count": 28,
   "id": "5df0a711-ed26-4bf1-ad23-1950cbe0786e",
   "metadata": {},
   "outputs": [],
   "source": [
    "def compare_excels(ref_path, new_path, output_path):\n",
    "    try :\n",
    "        df_old_version = pd.read_excel(ref_path)\n",
    "        df_new_version = pd.read_excel(new_path)\n",
    "\n",
    "        if df_old_version.shape != df_new_version.shape:\n",
    "            print(\"Error: DataFrames have different shapes. Cannot compare.\")\n",
    "            return \n",
    "            \n",
    "        wb_new = load_workbook(new_path)\n",
    "        ws_new = wb_new.active\n",
    "\n",
    "        if \"Summary\" in wb_new.sheetnames:\n",
    "            wb_new.remove(wb_new[\"Summary\"])\n",
    "        ws_summary = wb_new.create_sheet(\"Summary\")\n",
    "\n",
    "        # Ajouter des en-têtes au résumé\n",
    "        ws_summary.append([\"Row\", \"Column\", \"Old Value\", \"New Value\"])\n",
    "\n",
    "        red_fill = PatternFill(start_color='FFFF0000', end_color='FFFF0000', fill_type='solid')\n",
    "        font = Font(color='FFFFFF')\n",
    "\n",
    "        for row_index in range(0, df_new_version.shape[0]):\n",
    "            for col_index in range(1, df_new_version.shape[1]):\n",
    "                old_value = df_old_version.iloc[row_index,col_index]\n",
    "                ref_value = df_new_version.iloc[row_index,col_index]\n",
    "                # print(f'old value {old_value} and new value {ref_value}')\n",
    "        \n",
    "                if pd.isna(old_value) and pd.isna(ref_value):                \n",
    "                    continue\n",
    "                elif str(old_value) != str(ref_value) or (pd.isna(old_value) or pd.isna(ref_value)):\n",
    "                    print(f'old value {old_value} ,new value {ref_value}')\n",
    "                    cell = ws_new.cell(row=row_index + 2, column=col_index+1)\n",
    "                    cell.fill = red_fill\n",
    "                    cell.font = font\n",
    "                    cell.comment = Comment(add_comment(old_value, ref_value), \"AutoComparer\")\n",
    "                    if pd.isna(old_value):\n",
    "                        old_value = 'None'\n",
    "                    elif pd.isna(ref_value):\n",
    "                        ref_value = 'None'\n",
    "                    ws_summary.append([row_index + 2, df_new_version.columns[col_index], old_value, ref_value])\n",
    "                    \n",
    "                    \n",
    "        wb_new.save(output_path)\n",
    "        print(f\"Comparison complete. Differences highlighted in '{output_path}', summary added in 'Summary' sheet.\")\n",
    "    except FileNotFoundError:\n",
    "        print(\"Error: One or both of the Excel files were not found.\")\n",
    "    except Exception as e:\n",
    "        print(f\"An error occurred: {e}\")        "
   ]
  },
  {
   "cell_type": "code",
   "execution_count": 5,
   "id": "8547ea22-22d8-4d8c-b343-4f77dba50879",
   "metadata": {},
   "outputs": [],
   "source": [
    "ref_path = 'yazaki_data/2D0068747P-F0000_MaxWireList_ref.xlsx' \n",
    "new_path = 'yazaki_data/2D0068747P-F0000_MaxWireList.xlsx'\n",
    "output_path = 'yazaki_data/output.xlsx'"
   ]
  },
  {
   "cell_type": "code",
   "execution_count": 29,
   "id": "776c83fb-05dc-4bab-b415-a1803c3b8514",
   "metadata": {},
   "outputs": [],
   "source": [
    "ref_path = \"yazaki_data/ref.xlsx\"\n",
    "new_path =\"yazaki_data/new.xlsx\""
   ]
  },
  {
   "cell_type": "code",
   "execution_count": 20,
   "id": "521a3855-0e7d-4864-9137-78bb0e14a5e9",
   "metadata": {},
   "outputs": [
    {
     "data": {
      "text/plain": [
       "Customer Module/Option              object\n",
       "Customer Module/Option Function    float64\n",
       "Wire Type                           object\n",
       "Wire Customer Name                   int64\n",
       "Wire Internal Name                  object\n",
       "                                    ...   \n",
       "240109301V:00000                    object\n",
       "240109523V:00000                    object\n",
       "240109667V:00000                    object\n",
       "240109876V:00000                    object\n",
       "240109949V:00000                    object\n",
       "Length: 119, dtype: object"
      ]
     },
     "execution_count": 20,
     "metadata": {},
     "output_type": "execute_result"
    }
   ],
   "source": [
    "df.dtypes"
   ]
  },
  {
   "cell_type": "code",
   "execution_count": 30,
   "id": "112d8ef7-f15c-4b5e-8621-c85aa4264fe3",
   "metadata": {
    "scrolled": true
   },
   "outputs": [
    {
     "name": "stdout",
     "output_type": "stream",
     "text": [
      "old value 3230.0 ,new value 0.0\n",
      "old value X ,new value nan\n",
      "old value X ,new value nan\n",
      "old value X ,new value nan\n",
      "old value X ,new value nan\n",
      "old value X ,new value nan\n",
      "old value X ,new value nan\n",
      "old value X ,new value nan\n",
      "Comparison complete. Differences highlighted in 'yazaki_data/output.xlsx', summary added in 'Summary' sheet.\n"
     ]
    }
   ],
   "source": [
    "compare_excels(ref_path, new_path, output_path)"
   ]
  },
  {
   "cell_type": "code",
   "execution_count": null,
   "id": "7b6ea8d2-3efe-4355-9cb2-e422a9477eeb",
   "metadata": {},
   "outputs": [],
   "source": []
  }
 ],
 "metadata": {
  "kernelspec": {
   "display_name": "Python 3 (ipykernel)",
   "language": "python",
   "name": "python3"
  },
  "language_info": {
   "codemirror_mode": {
    "name": "ipython",
    "version": 3
   },
   "file_extension": ".py",
   "mimetype": "text/x-python",
   "name": "python",
   "nbconvert_exporter": "python",
   "pygments_lexer": "ipython3",
   "version": "3.13.2"
  }
 },
 "nbformat": 4,
 "nbformat_minor": 5
}
