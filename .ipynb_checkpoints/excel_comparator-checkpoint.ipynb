{
 "cells": [
  {
   "cell_type": "code",
   "execution_count": 1,
   "id": "ef23a7ea-a475-449c-ad67-0b3518589b31",
   "metadata": {},
   "outputs": [],
   "source": [
    "from openpyxl import load_workbook\n",
    "from openpyxl.styles import PatternFill, Font\n",
    "from openpyxl.comments import Comment\n",
    "import pandas as pd\n",
    "from utilities import *"
   ]
  },
  {
   "cell_type": "code",
   "execution_count": 36,
   "id": "5df0a711-ed26-4bf1-ad23-1950cbe0786e",
   "metadata": {},
   "outputs": [],
   "source": [
    "def compare_excels(ref_path, new_path, output_path):\n",
    "    try :\n",
    "        df_old_version = pd.read_excel(ref_path)\n",
    "        df_new_version = pd.read_excel(new_path)\n",
    "\n",
    "        if df_old_version.shape != df_new_version.shape:\n",
    "            print(\"Error: DataFrames have different shapes. Cannot compare.\")\n",
    "            return \n",
    "            \n",
    "        wb_new = load_workbook(new_path)\n",
    "        ws_new = wb_new.active\n",
    "\n",
    "        if \"Summary\" in wb_new.sheetnames:\n",
    "            wb_new.remove(wb_new[\"Summary\"])\n",
    "        ws_summary = wb_new.create_sheet(\"Summary\")\n",
    "\n",
    "        # Ajouter des en-têtes au résumé\n",
    "        ws_summary.append([\"Type\", \"Row/Column\", \"Old Value\", \"New Value\"])\n",
    "\n",
    "        red_fill = PatternFill(start_color='FFFF0000', end_color='FFFF0000', fill_type='solid')\n",
    "        green_fill = PatternFill(start_color='00FF00', end_color='00FF00', fill_type='solid')\n",
    "        font = Font(color='FFFFFF')\n",
    "\n",
    "        old_columns = set(df_old_version.columns)\n",
    "        new_columns = set(df_new_version.columns)\n",
    "        \n",
    "        added_columns = new_columns - old_columns\n",
    "        removed_columns = old_columns - new_columns\n",
    "        \n",
    "        for col in added_columns:\n",
    "            ws_summary.append([\"Added Column\", col, \"None\", \"Exists\"])\n",
    "            ws_new.cell(row=1, column= added_columns.index(col)).fill = green_fill\n",
    "        \n",
    "        for col in removed_columns:\n",
    "            ws_summary.append([\"Removed Column\", col, \"Exists\", \"None\"])\n",
    "            ws_new.cell(row=1, column= removed_columns.index(col)).fill = red_fill\n",
    "        \n",
    "        # Comparaison des valeurs cellule par cellule\n",
    "        common_columns = list(old_columns & new_columns)\n",
    "        df_old_version = df_old_version[common_columns]\n",
    "        df_new_version = df_new_version[common_columns]\n",
    "\n",
    "        for row_index in range(0, df_new_version.shape[0]):\n",
    "            for col_index in range(1, df_new_version.shape[1]):\n",
    "                old_value = df_old_version.iloc[row_index,col_index]\n",
    "                ref_value = df_new_version.iloc[row_index,col_index]\n",
    "                # print(f'old value {old_value} and new value {ref_value}')\n",
    "        \n",
    "                if pd.isna(old_value) and pd.isna(ref_value):                \n",
    "                    continue\n",
    "                elif str(old_value) != str(ref_value) or (pd.isna(old_value) or pd.isna(ref_value)):\n",
    "                    print(f'old value {old_value} ,new value {ref_value}')\n",
    "                    cell = ws_new.cell(row=row_index + 2, column=col_index+1)\n",
    "                    cell.fill = red_fill\n",
    "                    cell.font = font\n",
    "                    cell.comment = Comment(add_comment(old_value, ref_value), \"AutoComparer\")\n",
    "                    if pd.isna(old_value):\n",
    "                        old_value = 'None'\n",
    "                    elif pd.isna(ref_value):\n",
    "                        ref_value = 'None'\n",
    "                    # ws_summary.append([\"Value Change\", f\"Row {row_index + 2}, Col {col_name}\", old_value, new_value])\n",
    "                    # ws_summary.append([row_index + 2, df_new_version.columns[col_index], old_value, ref_value])\n",
    "                    \n",
    "                    \n",
    "        wb_new.save(output_path)\n",
    "        print(f\"Comparison complete. Differences highlighted in '{output_path}', summary added in 'Summary' sheet.\")\n",
    "    except FileNotFoundError:\n",
    "        print(\"Error: One or both of the Excel files were not found.\")\n",
    "    except Exception as e:\n",
    "        print(f\"An error occurred: {e}\")        "
   ]
  },
  {
   "cell_type": "code",
   "execution_count": 150,
   "id": "776c83fb-05dc-4bab-b415-a1803c3b8514",
   "metadata": {},
   "outputs": [],
   "source": [
    "ref_path = \"yazaki_data/ref.xlsx\"\n",
    "new_path =\"yazaki_data/new.xlsx\"\n",
    "output_path = 'yazaki_data/output.xlsx'"
   ]
  },
  {
   "cell_type": "code",
   "execution_count": 151,
   "id": "112d8ef7-f15c-4b5e-8621-c85aa4264fe3",
   "metadata": {
    "scrolled": true
   },
   "outputs": [
    {
     "name": "stdout",
     "output_type": "stream",
     "text": [
      "Row index 2,col index : 53 old value X ,new value XX\n",
      "Row index 3,col index : 14 old value SQ ,new value SQA\n",
      "Row index 5,col index : 7 old value L/W ,new value L/Wx\n",
      "Comparison complete. Differences highlighted in 'yazaki_data/output.xlsx', summary added in 'Summary' sheet.\n"
     ]
    }
   ],
   "source": [
    "compare_excels(ref_path, new_path, output_path)"
   ]
  },
  {
   "cell_type": "code",
   "execution_count": 149,
   "id": "7b6ea8d2-3efe-4355-9cb2-e422a9477eeb",
   "metadata": {},
   "outputs": [],
   "source": [
    "def compare_excels(ref_path, new_path, output_path):\n",
    "    try:\n",
    "        df_old_version = pd.read_excel(ref_path)\n",
    "        df_new_version = pd.read_excel(new_path)\n",
    "        \n",
    "        wb_new = load_workbook(new_path)\n",
    "        ws_new = wb_new.active\n",
    "\n",
    "        if \"Summary\" in wb_new.sheetnames:\n",
    "            wb_new.remove(wb_new[\"Summary\"])\n",
    "        ws_summary = wb_new.create_sheet(\"Summary\")\n",
    "\n",
    "        # Ajouter des en-têtes au résumé\n",
    "        ws_summary.append([\"Type\", \"Row/Column\", \"Old Value\", \"New Value\"])\n",
    "\n",
    "        red_fill = PatternFill(start_color='FFFF0000', end_color='FFFF0000', fill_type='solid')\n",
    "        green_fill = PatternFill(start_color='00FF00', end_color='00FF00', fill_type='solid')\n",
    "        font = Font(color='FFFFFF')\n",
    "\n",
    "        # Détection des colonnes ajoutées ou supprimées\n",
    "        old_columns = set(df_old_version.columns)\n",
    "        new_columns = set(df_new_version.columns)\n",
    "        \n",
    "        added_columns = new_columns - old_columns\n",
    "        removed_columns = old_columns - new_columns\n",
    "        \n",
    "        for col in added_columns:\n",
    "            ws_summary.append([\"Added Column\", col, \"None\", \"Exists\"])\n",
    "        \n",
    "        for col in removed_columns:\n",
    "            ws_summary.append([\"Removed Column\", col, \"Exists\", \"None\"])\n",
    "        \n",
    "        # Comparaison des valeurs cellule par cellule\n",
    "        common_columns = list(old_columns & new_columns)\n",
    "        # df_old_version = df_old_version[common_columns]\n",
    "        # df_new_version = df_new_version[common_columns]\n",
    "\n",
    "\n",
    "        \n",
    "        for row_index in range(0, min(df_old_version.shape[0], df_new_version.shape[0])):\n",
    "            for col_name in common_columns:\n",
    "                if col_name in old_columns:\n",
    "                    col_index = list(df_old_version.columns).index(col_name)\n",
    "                else :\n",
    "                    col_index = list(df_new_version.columns).index(col_name)\n",
    "                old_value = df_old_version.iloc[row_index, col_index]\n",
    "                new_value = df_new_version.iloc[row_index, col_index]\n",
    "                \n",
    "                if pd.isna(old_value) and pd.isna(new_value):\n",
    "                    continue\n",
    "                elif (str(old_value) != str(new_value)):\n",
    "                    print(f'Row index {row_index + 2},col index : {col_index} old value {old_value} ,new value {new_value}')\n",
    "                    cell = ws_new.cell(row=row_index + 2, column=col_index + 1)\n",
    "                    cell.fill = red_fill\n",
    "                    cell.font = font\n",
    "                    cell.comment = Comment(add_comment(old_value, new_value), \"AutoComparer\")\n",
    "                    if pd.isna(old_value):\n",
    "                        old_value = 'None'\n",
    "                    elif pd.isna(new_value):\n",
    "                        new_value = 'None'\n",
    "                    ws_summary.append([\"Value Change\", f\"Row {row_index + 2}, Col {col_name}\", old_value, new_value])\n",
    "\n",
    "        wb_new.save(output_path)\n",
    "        print(f\"Comparison complete. Differences highlighted in '{output_path}', summary added in 'Summary' sheet.\")\n",
    "    except FileNotFoundError:\n",
    "        print(\"Error: One or both of the Excel files were not found.\")\n",
    "    except Exception as e:\n",
    "        print(f\"An error occurred: {e}\")\n"
   ]
  },
  {
   "cell_type": "code",
   "execution_count": 134,
   "id": "dcc9e8b8-4322-4fc6-87b9-60c5acaa88dd",
   "metadata": {},
   "outputs": [],
   "source": [
    "df_old_version = pd.read_excel(ref_path)\n",
    "df_new_version = pd.read_excel(new_path)"
   ]
  },
  {
   "cell_type": "code",
   "execution_count": 135,
   "id": "441f8f90-bfdb-4a03-a227-56434cb2ab42",
   "metadata": {},
   "outputs": [],
   "source": [
    "old_columns = set(df_old_version.columns)\n",
    "new_columns = set(df_new_version.columns)\n",
    "added_columns = new_columns - old_columns\n",
    "removed_columns = old_columns - new_columns"
   ]
  },
  {
   "cell_type": "code",
   "execution_count": 145,
   "id": "decaaff9-e6fb-4c0e-b316-ec9dbf9e1cb2",
   "metadata": {},
   "outputs": [
    {
     "data": {
      "text/plain": [
       "False"
      ]
     },
     "execution_count": 145,
     "metadata": {},
     "output_type": "execute_result"
    }
   ],
   "source": [
    "'To Eyelet Protection' in list(df_old_version.columns)"
   ]
  },
  {
   "cell_type": "code",
   "execution_count": 144,
   "id": "a12633a6-4deb-4f16-bc1f-90b7de994b13",
   "metadata": {},
   "outputs": [
    {
     "data": {
      "text/plain": [
       "True"
      ]
     },
     "execution_count": 144,
     "metadata": {},
     "output_type": "execute_result"
    }
   ],
   "source": [
    "'To Eyelet Protection' in list(df_new_version.columns)"
   ]
  },
  {
   "cell_type": "code",
   "execution_count": 143,
   "id": "91b5e9a8-97e6-4055-8aeb-025154acebbb",
   "metadata": {},
   "outputs": [
    {
     "data": {
      "text/plain": [
       "{'To Eyelet Protection'}"
      ]
     },
     "execution_count": 143,
     "metadata": {},
     "output_type": "execute_result"
    }
   ],
   "source": [
    "added_columns"
   ]
  },
  {
   "cell_type": "code",
   "execution_count": null,
   "id": "b906153d-9140-47aa-b249-8eb2fb504eba",
   "metadata": {},
   "outputs": [],
   "source": []
  }
 ],
 "metadata": {
  "kernelspec": {
   "display_name": "Python 3 (ipykernel)",
   "language": "python",
   "name": "python3"
  },
  "language_info": {
   "codemirror_mode": {
    "name": "ipython",
    "version": 3
   },
   "file_extension": ".py",
   "mimetype": "text/x-python",
   "name": "python",
   "nbconvert_exporter": "python",
   "pygments_lexer": "ipython3",
   "version": "3.13.2"
  }
 },
 "nbformat": 4,
 "nbformat_minor": 5
}
