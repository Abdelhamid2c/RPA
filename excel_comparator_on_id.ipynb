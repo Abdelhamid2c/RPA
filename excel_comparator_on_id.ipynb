{
 "cells": [
  {
   "cell_type": "code",
   "execution_count": 212,
   "id": "ea9bf3a0-04a6-45cf-9bd0-b44147245fe5",
   "metadata": {},
   "outputs": [],
   "source": [
    "import pandas as pd\n",
    "import numpy as np\n",
    "from openpyxl import load_workbook\n",
    "from openpyxl import Workbook\n",
    "from openpyxl.styles import PatternFill, Font\n",
    "from openpyxl.comments import Comment\n",
    "from utilities import add_comment"
   ]
  },
  {
   "cell_type": "code",
   "execution_count": 226,
   "id": "0a666bad-c122-4d1f-96ff-343336d0f142",
   "metadata": {},
   "outputs": [],
   "source": [
    "old_path =  'Test_Data/note_eleve.xlsx'\n",
    "new_path = 'Test_Data/new_note.xlsx'\n",
    "output = 'Test_Data/output.xlsx'"
   ]
  },
  {
   "cell_type": "code",
   "execution_count": 227,
   "id": "bf6156b8-ea3c-4344-91ca-eb8e7b4d07da",
   "metadata": {
    "scrolled": true
   },
   "outputs": [],
   "source": [
    "df_old = pd.read_excel(old_path)\n",
    "df_new = pd.read_excel(new_path)"
   ]
  },
  {
   "cell_type": "code",
   "execution_count": 228,
   "id": "f15245f8-fff3-4f64-9692-00daefa49d16",
   "metadata": {},
   "outputs": [
    {
     "data": {
      "text/plain": [
       "(      Nom     prenom  note\n",
       " 0   nom_1   prénom_1  19.0\n",
       " 1   nom_2   prénom_2   6.0\n",
       " 2   nom_3   prénom_3  17.0\n",
       " 3   nom_4   prénom_4   NaN\n",
       " 4   nom_5   prénom_5  10.0\n",
       " 5   nom_6   prénom_6  11.0\n",
       " 6   nom_7   prénom_7  15.0\n",
       " 7   nom_8   prénom_8  13.0\n",
       " 8   nom_9   prénom_9   9.0\n",
       " 9  nom_11  prénom_10  10.0,\n",
       " Nom        object\n",
       " prenom     object\n",
       " note      float64\n",
       " dtype: object)"
      ]
     },
     "execution_count": 228,
     "metadata": {},
     "output_type": "execute_result"
    }
   ],
   "source": [
    "df_old,df_new.dtypes"
   ]
  },
  {
   "cell_type": "code",
   "execution_count": 229,
   "id": "b892c002-7137-4e0f-83ca-4b85e77a4030",
   "metadata": {},
   "outputs": [
    {
     "data": {
      "text/plain": [
       "0"
      ]
     },
     "execution_count": 229,
     "metadata": {},
     "output_type": "execute_result"
    }
   ],
   "source": [
    "len(list(df_old.columns)) - len(list(df_new.columns))"
   ]
  },
  {
   "cell_type": "code",
   "execution_count": 230,
   "id": "c3c6bbae-9341-4993-a4e3-87a9443b39d8",
   "metadata": {},
   "outputs": [],
   "source": [
    "columns = list(df_old.columns)"
   ]
  },
  {
   "cell_type": "code",
   "execution_count": 231,
   "id": "592d3478-b73d-4350-b8c7-19240301b584",
   "metadata": {},
   "outputs": [
    {
     "name": "stdout",
     "output_type": "stream",
     "text": [
      "Shape of new data : (11, 3)\n",
      "Shape of ref data : (10, 3)\n"
     ]
    }
   ],
   "source": [
    "print(f'Shape of new data : {df_new.shape}')\n",
    "print(f'Shape of ref data : {df_old.shape}')"
   ]
  },
  {
   "cell_type": "code",
   "execution_count": 233,
   "id": "72d8aca0-6837-47b8-beab-ff969e055997",
   "metadata": {},
   "outputs": [],
   "source": [
    "uniques_id = np.random.randint(1, len(df_old)*100, size=len(df_old))\n",
    "\n",
    "if df_new.shape[0] > df_old.shape[1]:\n",
    "    df_old['_id'] = uniques_id\n",
    "    df_new['_id'] = np.concatenate((uniques_id, [np.nan] * max(0, len(df_new) - len(uniques_id))))\n",
    "    \n",
    "elif df_new.shape[0] < df_old.shape[1]:\n",
    "    df_old['_id'] = uniques_id\n",
    "    df_new['_id'] = uniques_id[:len(df_new)]\n",
    "else : \n",
    "    df_old['_id'] = uniques_id\n",
    "    df_new['_id'] = uniques_id"
   ]
  },
  {
   "cell_type": "code",
   "execution_count": 221,
   "id": "75453dd8-1acb-40fc-9a7d-6e1b5652c33e",
   "metadata": {},
   "outputs": [],
   "source": [
    "Deleted_Rows = pd.merge(df_old, df_new, on='_id', how ='left', indicator = True)"
   ]
  },
  {
   "cell_type": "code",
   "execution_count": 222,
   "id": "840085bf-b652-46ac-b04d-d62876192c23",
   "metadata": {},
   "outputs": [],
   "source": [
    "Deleted_Rows = Deleted_Rows[Deleted_Rows['_merge'] == 'left_only'].drop(columns = '_merge')"
   ]
  },
  {
   "cell_type": "code",
   "execution_count": 223,
   "id": "31a28769-5b88-43cb-bcfd-6dc42e0bef8a",
   "metadata": {},
   "outputs": [
    {
     "data": {
      "text/html": [
       "<div>\n",
       "<style scoped>\n",
       "    .dataframe tbody tr th:only-of-type {\n",
       "        vertical-align: middle;\n",
       "    }\n",
       "\n",
       "    .dataframe tbody tr th {\n",
       "        vertical-align: top;\n",
       "    }\n",
       "\n",
       "    .dataframe thead th {\n",
       "        text-align: right;\n",
       "    }\n",
       "</style>\n",
       "<table border=\"1\" class=\"dataframe\">\n",
       "  <thead>\n",
       "    <tr style=\"text-align: right;\">\n",
       "      <th></th>\n",
       "      <th>Nom_x</th>\n",
       "      <th>prenom_x</th>\n",
       "      <th>note_x</th>\n",
       "      <th>_id</th>\n",
       "      <th>Nom_y</th>\n",
       "      <th>prenom_y</th>\n",
       "      <th>note_y</th>\n",
       "    </tr>\n",
       "  </thead>\n",
       "  <tbody>\n",
       "  </tbody>\n",
       "</table>\n",
       "</div>"
      ],
      "text/plain": [
       "Empty DataFrame\n",
       "Columns: [Nom_x, prenom_x, note_x, _id, Nom_y, prenom_y, note_y]\n",
       "Index: []"
      ]
     },
     "execution_count": 223,
     "metadata": {},
     "output_type": "execute_result"
    }
   ],
   "source": [
    "Deleted_Rows"
   ]
  },
  {
   "cell_type": "code",
   "execution_count": 15,
   "id": "efb3fc73-c04c-4c12-9f08-04fdb25219d4",
   "metadata": {},
   "outputs": [],
   "source": [
    "red_fill = PatternFill(start_color='FF0000', end_color='FF0000', fill_type='solid')\n",
    "font = Font(color='FFFFFF')"
   ]
  },
  {
   "cell_type": "code",
   "execution_count": 16,
   "id": "42bd5d73-1e2b-4301-801d-ca21b68b2f88",
   "metadata": {},
   "outputs": [
    {
     "data": {
      "text/plain": [
       "array([5, 9])"
      ]
     },
     "execution_count": 16,
     "metadata": {},
     "output_type": "execute_result"
    }
   ],
   "source": [
    "Deleted_Rows['id'].values"
   ]
  },
  {
   "cell_type": "code",
   "execution_count": 24,
   "id": "c08b8514-0d0d-4c1f-9a3f-c0a8f34ef506",
   "metadata": {},
   "outputs": [
    {
     "data": {
      "text/plain": [
       "np.int64(4)"
      ]
     },
     "execution_count": 24,
     "metadata": {},
     "output_type": "execute_result"
    }
   ],
   "source": [
    "Deleted_Rows[Deleted_Rows['id']==5].index[0]"
   ]
  },
  {
   "cell_type": "code",
   "execution_count": null,
   "id": "91759116-9370-401a-9548-f1f036369278",
   "metadata": {},
   "outputs": [],
   "source": []
  },
  {
   "cell_type": "code",
   "execution_count": 46,
   "id": "6c7c1d85-9efd-46c0-beaf-a88907752f69",
   "metadata": {},
   "outputs": [
    {
     "name": "stdout",
     "output_type": "stream",
     "text": [
      "Removed rows have been highlighted in red in Test_Data/output.xlsx\n"
     ]
    }
   ],
   "source": [
    "wb_old = load_workbook(old_path)\n",
    "ws_old = wb_old.active\n",
    "\n",
    "idx_Deleted_rows = Deleted_Rows['id'].values\n",
    "for idx_item in idx_Deleted_rows :\n",
    "    for col in range(1, ws_old.max_column + 1):\n",
    "        idx_row = Deleted_Rows[Deleted_Rows['id']==idx_item].index[0]\n",
    "        cell = ws_old.cell(row=idx_row+2, column=col)\n",
    "        cell.fill = red_fill\n",
    "    ws_old.cell(row=idx_row+2, column=1).comment = Comment(\"Deleted Row\", \"Author\")\n",
    "wb_old.save(output)\n",
    "print(f'Removed rows have been highlighted in red in {output}')"
   ]
  },
  {
   "cell_type": "code",
   "execution_count": 40,
   "id": "7a2acb82-8288-4e0f-bd28-943821238ad6",
   "metadata": {},
   "outputs": [],
   "source": [
    "Unchanged_Rows = pd.merge(df_old, df_new, on=columns[:-1], how = 'inner', indicator = True)"
   ]
  },
  {
   "cell_type": "code",
   "execution_count": 41,
   "id": "d714fbcb-c524-49da-9c81-e04ccdb999cf",
   "metadata": {},
   "outputs": [
    {
     "data": {
      "text/html": [
       "<div>\n",
       "<style scoped>\n",
       "    .dataframe tbody tr th:only-of-type {\n",
       "        vertical-align: middle;\n",
       "    }\n",
       "\n",
       "    .dataframe tbody tr th {\n",
       "        vertical-align: top;\n",
       "    }\n",
       "\n",
       "    .dataframe thead th {\n",
       "        text-align: right;\n",
       "    }\n",
       "</style>\n",
       "<table border=\"1\" class=\"dataframe\">\n",
       "  <thead>\n",
       "    <tr style=\"text-align: right;\">\n",
       "      <th></th>\n",
       "      <th>id</th>\n",
       "      <th>Nom</th>\n",
       "      <th>prenom</th>\n",
       "      <th>note_x</th>\n",
       "      <th>note_y</th>\n",
       "    </tr>\n",
       "  </thead>\n",
       "  <tbody>\n",
       "    <tr>\n",
       "      <th>0</th>\n",
       "      <td>1</td>\n",
       "      <td>nom_1</td>\n",
       "      <td>prénom_1</td>\n",
       "      <td>19.0</td>\n",
       "      <td>19.0</td>\n",
       "    </tr>\n",
       "    <tr>\n",
       "      <th>1</th>\n",
       "      <td>3</td>\n",
       "      <td>nom_3</td>\n",
       "      <td>prénom_3</td>\n",
       "      <td>17.0</td>\n",
       "      <td>17.0</td>\n",
       "    </tr>\n",
       "    <tr>\n",
       "      <th>2</th>\n",
       "      <td>7</td>\n",
       "      <td>nom_7</td>\n",
       "      <td>prénom_7</td>\n",
       "      <td>15.0</td>\n",
       "      <td>15.0</td>\n",
       "    </tr>\n",
       "    <tr>\n",
       "      <th>3</th>\n",
       "      <td>8</td>\n",
       "      <td>nom_8</td>\n",
       "      <td>prénom_8</td>\n",
       "      <td>13.0</td>\n",
       "      <td>13.0</td>\n",
       "    </tr>\n",
       "  </tbody>\n",
       "</table>\n",
       "</div>"
      ],
      "text/plain": [
       "   id    Nom    prenom  note_x  note_y\n",
       "0   1  nom_1  prénom_1    19.0    19.0\n",
       "1   3  nom_3  prénom_3    17.0    17.0\n",
       "2   7  nom_7  prénom_7    15.0    15.0\n",
       "3   8  nom_8  prénom_8    13.0    13.0"
      ]
     },
     "execution_count": 41,
     "metadata": {},
     "output_type": "execute_result"
    }
   ],
   "source": [
    "Unchanged_Rows = Unchanged_Rows[Unchanged_Rows['_merge'] == 'both'].drop(columns = '_merge')\n",
    "Unchanged_Rows"
   ]
  },
  {
   "cell_type": "code",
   "execution_count": 42,
   "id": "d6c5cde3-7cbb-4444-8bf9-2da68015a0a3",
   "metadata": {},
   "outputs": [],
   "source": [
    "red_fill = PatternFill(start_color='808080', end_color='808080', fill_type='solid')\n",
    "font = Font(color='FFFFFF')"
   ]
  },
  {
   "cell_type": "code",
   "execution_count": 43,
   "id": "630db34f-4de9-4328-9668-433c564d00f2",
   "metadata": {},
   "outputs": [
    {
     "data": {
      "text/plain": [
       "array([1, 3, 7, 8])"
      ]
     },
     "execution_count": 43,
     "metadata": {},
     "output_type": "execute_result"
    }
   ],
   "source": [
    "Unchanged_Rows['id'].values"
   ]
  },
  {
   "cell_type": "code",
   "execution_count": 45,
   "id": "9eb11c81-15e4-400a-bfee-a3cd06106f9c",
   "metadata": {},
   "outputs": [
    {
     "name": "stdout",
     "output_type": "stream",
     "text": [
      "Removed rows have been highlighted in red in Test_Data/output.xlsx\n"
     ]
    }
   ],
   "source": [
    "# wb_old = load_workbook(old_path)\n",
    "# ws_old = wb_old.active\n",
    "\n",
    "idx_Unchanged_Rows = Unchanged_Rows['id'].values\n",
    "for idx_item in idx_Unchanged_Rows :\n",
    "    for col in range(1, ws_old.max_column + 1):\n",
    "        idx_row = Unchanged_Rows[Unchanged_Rows['id']==idx_item].index[0]\n",
    "        cell = ws_old.cell(row=idx_row+2, column=col)\n",
    "        cell.fill = red_fill\n",
    "    ws_old.cell(row=idx_row+2, column=1).comment = Comment(\"Deleted Row\", \"Author\")\n",
    "print(f'Removed rows have been highlighted in red in {output}')"
   ]
  },
  {
   "cell_type": "code",
   "execution_count": 186,
   "id": "076a7572-94c7-4a43-95ad-0d0b3b67bc2d",
   "metadata": {},
   "outputs": [],
   "source": [
    "if df_old.shape == df_new.shape :\n",
    "    modified_cells = df_old.compare(df_new)\n",
    "    \n",
    "    with pd.ExcelWriter(output, engine='openpyxl') as writer:\n",
    "        \n",
    "        modified_cells.to_excel(writer, sheet_name='Modified')\n",
    "    \n",
    "    df = pd.read_excel(output, header=[0, 1]) \n",
    "    \n",
    "    wb = load_workbook(output)\n",
    "    ws = wb.active\n",
    "    \n",
    "    red_fill = PatternFill(start_color=\"FF0000\", end_color=\"FF0000\", fill_type=\"solid\")  # Rouge\n",
    "    gray_fill = PatternFill(start_color=\"D3D3D3\", end_color=\"D3D3D3\", fill_type=\"solid\")  # Gris\n",
    "    \n",
    "    self_columns = [col for col in df.columns if col[1] == \"self\"]\n",
    "    other_columns = [col for col in df.columns if col[1] == \"other\"]\n",
    "    \n",
    "    for row in range(2, len(df) + 2): \n",
    "        for self_col, other_col in zip(self_columns, other_columns):\n",
    "            self_value = df.at[row - 2, self_col]\n",
    "            other_value = df.at[row - 2, other_col]\n",
    "    \n",
    "            cell_self = ws.cell(row=row + 1, column=df.columns.get_loc(self_col) + 1)\n",
    "            cell_other = ws.cell(row=row + 1, column=df.columns.get_loc(other_col) + 1)\n",
    "    \n",
    "            if pd.notna(self_value) and pd.notna(other_value) and self_value != other_value:\n",
    "                cell_self.fill = red_fill\n",
    "                cell_other.fill = red_fill\n",
    "    \n",
    "            if pd.isna(self_value):\n",
    "                cell_self.fill = gray_fill\n",
    "            if pd.isna(other_value):\n",
    "                cell_other.fill = gray_fill\n",
    "    \n",
    "    wb.save(output)\n",
    "    wb.close()\n",
    "    print(\"Comparison complete. Check 'comparison_result.xlsx' for details.\")\n",
    "else :\n",
    "    with pd.ExcelWriter(output, engine=\"openpyxl\", mode=\"w\") as writer:\n",
    "        df_final.to_excel(writer, sheet_name=\"Added Row\", index=False)\n",
    "        df_final.to_excel(writer, sheet_name=\"Removed Row\", index=False)\n",
    "        df_final.to_excel(writer, sheet_name=\"Modified Row\", index=False)"
   ]
  }
 ],
 "metadata": {
  "kernelspec": {
   "display_name": "Python 3 (ipykernel)",
   "language": "python",
   "name": "python3"
  },
  "language_info": {
   "codemirror_mode": {
    "name": "ipython",
    "version": 3
   },
   "file_extension": ".py",
   "mimetype": "text/x-python",
   "name": "python",
   "nbconvert_exporter": "python",
   "pygments_lexer": "ipython3",
   "version": "3.13.2"
  }
 },
 "nbformat": 4,
 "nbformat_minor": 5
}
